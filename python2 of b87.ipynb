{
 "cells": [
  {
   "cell_type": "code",
   "execution_count": null,
   "id": "a158a940-ba2b-430d-9dff-a5fe4b3645d6",
   "metadata": {},
   "outputs": [],
   "source": [
    "understanding the variable in python"
   ]
  },
  {
   "cell_type": "code",
   "execution_count": 1,
   "id": "b3e175fb-17e7-45c1-894e-dae32ac004f7",
   "metadata": {},
   "outputs": [],
   "source": [
    "x=3\n",
    "y=5"
   ]
  },
  {
   "cell_type": "code",
   "execution_count": 2,
   "id": "3f187bce-9911-4f89-9e6a-66c850cb299c",
   "metadata": {},
   "outputs": [
    {
     "name": "stdout",
     "output_type": "stream",
     "text": [
      "8\n"
     ]
    }
   ],
   "source": [
    "z=x+y\n",
    "print(z)"
   ]
  },
  {
   "cell_type": "code",
   "execution_count": null,
   "id": "ec526154-1edb-4c84-89f1-164ec99ba7a0",
   "metadata": {},
   "outputs": [],
   "source": [
    "Rules for declaring variables in python:"
   ]
  },
  {
   "cell_type": "code",
   "execution_count": null,
   "id": "7af254b2-68b8-4529-8575-58496ca7031d",
   "metadata": {},
   "outputs": [],
   "source": [
    "R1:No namespaces while declaring the variable names in python.."
   ]
  },
  {
   "cell_type": "code",
   "execution_count": 3,
   "id": "928aa534-6dd7-4f14-9853-556d7cfa9623",
   "metadata": {},
   "outputs": [
    {
     "ename": "SyntaxError",
     "evalue": "invalid syntax (3819141573.py, line 1)",
     "output_type": "error",
     "traceback": [
      "\u001b[1;36m  Cell \u001b[1;32mIn[3], line 1\u001b[1;36m\u001b[0m\n\u001b[1;33m    first name='syed'\u001b[0m\n\u001b[1;37m          ^\u001b[0m\n\u001b[1;31mSyntaxError\u001b[0m\u001b[1;31m:\u001b[0m invalid syntax\n"
     ]
    }
   ],
   "source": [
    "first name='syed'\n",
    "print(first name)"
   ]
  },
  {
   "cell_type": "code",
   "execution_count": 4,
   "id": "1fd8d5ea-6311-48c6-98db-96534375eff7",
   "metadata": {},
   "outputs": [
    {
     "name": "stdout",
     "output_type": "stream",
     "text": [
      "syed\n"
     ]
    }
   ],
   "source": [
    "firstname='syed'\n",
    "print(firstname)"
   ]
  },
  {
   "cell_type": "code",
   "execution_count": null,
   "id": "169c106b-b1d0-481e-9e28-cf9a28137235",
   "metadata": {},
   "outputs": [],
   "source": []
  },
  {
   "cell_type": "code",
   "execution_count": null,
   "id": "d75ad14a-7d5f-45d0-9336-b8db0538b073",
   "metadata": {},
   "outputs": [],
   "source": [
    "R2:A variable name should not start with a number...."
   ]
  },
  {
   "cell_type": "code",
   "execution_count": 5,
   "id": "0947ef3d-39aa-42e2-9a5e-e2afed08347a",
   "metadata": {},
   "outputs": [
    {
     "ename": "SyntaxError",
     "evalue": "invalid syntax (2848742034.py, line 1)",
     "output_type": "error",
     "traceback": [
      "\u001b[1;36m  Cell \u001b[1;32mIn[5], line 1\u001b[1;36m\u001b[0m\n\u001b[1;33m    1 name='syed'\u001b[0m\n\u001b[1;37m      ^\u001b[0m\n\u001b[1;31mSyntaxError\u001b[0m\u001b[1;31m:\u001b[0m invalid syntax\n"
     ]
    }
   ],
   "source": [
    "1 name='syed'\n",
    "print(1 name)"
   ]
  },
  {
   "cell_type": "code",
   "execution_count": 6,
   "id": "600da613-0143-4b88-afc7-23f3228827b2",
   "metadata": {},
   "outputs": [
    {
     "name": "stdout",
     "output_type": "stream",
     "text": [
      "syed\n"
     ]
    }
   ],
   "source": [
    "name1='syed'\n",
    "print(name1)"
   ]
  },
  {
   "cell_type": "code",
   "execution_count": null,
   "id": "358e2557-1a46-4a34-b923-645033e30355",
   "metadata": {},
   "outputs": [],
   "source": [
    "R3:A variable name should not contain any special characters....(eg:@#$%^)"
   ]
  },
  {
   "cell_type": "code",
   "execution_count": 7,
   "id": "e75b27dc-3072-4ca6-90bd-396c5e04a108",
   "metadata": {},
   "outputs": [
    {
     "ename": "SyntaxError",
     "evalue": "invalid syntax (2150747869.py, line 2)",
     "output_type": "error",
     "traceback": [
      "\u001b[1;36m  Cell \u001b[1;32mIn[7], line 2\u001b[1;36m\u001b[0m\n\u001b[1;33m    print(name@)\u001b[0m\n\u001b[1;37m               ^\u001b[0m\n\u001b[1;31mSyntaxError\u001b[0m\u001b[1;31m:\u001b[0m invalid syntax\n"
     ]
    }
   ],
   "source": [
    "name@='syed'\n",
    "print(name@)"
   ]
  },
  {
   "cell_type": "code",
   "execution_count": null,
   "id": "986b84b7-f623-4a31-ba45-19988e4b86bf",
   "metadata": {},
   "outputs": [],
   "source": [
    "Intro to datatypes in python:"
   ]
  },
  {
   "cell_type": "code",
   "execution_count": null,
   "id": "63dc0341-1e91-4a24-97f6-891d03f16cbe",
   "metadata": {},
   "outputs": [],
   "source": [
    "1.strings----> str\n",
    "2.Numbers---->integers--->int and float--->floats(decimal numbers)\n",
    "3.list--->list\n",
    "4.tuples----->tuple\n",
    "5.dictionary---->dict\n"
   ]
  },
  {
   "cell_type": "code",
   "execution_count": null,
   "id": "de87b063-d274-4d75-a851-3d0609aa6cd6",
   "metadata": {},
   "outputs": [],
   "source": [
    "Classification of datatypes in python:\n",
    "classified in 2 types\n",
    "1.mutable datatypes---->which we can alter/edit\n",
    "2.Immutable datatypes---->fixed in nature"
   ]
  },
  {
   "cell_type": "code",
   "execution_count": null,
   "id": "cbf03f53-5a03-441c-814e-af3766feec73",
   "metadata": {},
   "outputs": [],
   "source": [
    "Intro to string datatype:\n",
    "Definition:A string is a series of characters declared in quotes\n",
    "\n",
    "classification:\n",
    "1.single quote\n",
    "2.double quote"
   ]
  },
  {
   "cell_type": "code",
   "execution_count": 2,
   "id": "f7c773e2-e6c4-4fd8-a87d-b86d096f6ce8",
   "metadata": {},
   "outputs": [
    {
     "name": "stdout",
     "output_type": "stream",
     "text": [
      "syed\n"
     ]
    }
   ],
   "source": [
    "name='syed'\n",
    "print(name)"
   ]
  },
  {
   "cell_type": "raw",
   "id": "ab2c4b68-32cf-400b-a84d-289cdf86bd52",
   "metadata": {},
   "source": []
  },
  {
   "cell_type": "code",
   "execution_count": 4,
   "id": "6a452a45-8684-4823-90d2-af06062b5860",
   "metadata": {},
   "outputs": [
    {
     "name": "stdout",
     "output_type": "stream",
     "text": [
      "syed\n"
     ]
    }
   ],
   "source": [
    "name2=\"syed\"\n",
    "print(name2)"
   ]
  },
  {
   "cell_type": "code",
   "execution_count": null,
   "id": "77ed2e7d-7204-4ec0-8d00-a9af947f0ed1",
   "metadata": {},
   "outputs": [],
   "source": [
    "Intro to string methods:(built in pgms i.e.formulas)"
   ]
  },
  {
   "cell_type": "code",
   "execution_count": 6,
   "id": "3649fcfd-2210-4903-a19a-7d705d01fc68",
   "metadata": {},
   "outputs": [
    {
     "data": {
      "text/plain": [
       "str"
      ]
     },
     "execution_count": 6,
     "metadata": {},
     "output_type": "execute_result"
    }
   ],
   "source": [
    "type(name)"
   ]
  },
  {
   "cell_type": "code",
   "execution_count": 7,
   "id": "d24c2202-fddf-466a-82b6-639abb2e7f30",
   "metadata": {},
   "outputs": [
    {
     "data": {
      "text/plain": [
       "str"
      ]
     },
     "execution_count": 7,
     "metadata": {},
     "output_type": "execute_result"
    }
   ],
   "source": [
    "type(name2)"
   ]
  },
  {
   "cell_type": "code",
   "execution_count": 9,
   "id": "6dc78602-f7c5-42d2-864a-a3818adefe09",
   "metadata": {},
   "outputs": [
    {
     "name": "stdout",
     "output_type": "stream",
     "text": [
      "syed\n"
     ]
    }
   ],
   "source": [
    "fullname='syed'\n",
    "print(fullname)"
   ]
  },
  {
   "cell_type": "code",
   "execution_count": null,
   "id": "fcbbf949-ce5d-4160-8862-4efb04b10773",
   "metadata": {},
   "outputs": [],
   "source": [
    "#req:to correct the format..."
   ]
  },
  {
   "cell_type": "code",
   "execution_count": 10,
   "id": "54fbd5cd-7d20-47a1-a1a6-318290b89f20",
   "metadata": {},
   "outputs": [
    {
     "name": "stdout",
     "output_type": "stream",
     "text": [
      "Syed\n"
     ]
    }
   ],
   "source": [
    "print(fullname.title())"
   ]
  },
  {
   "cell_type": "code",
   "execution_count": null,
   "id": "e75c1583-cee9-4aeb-a785-b481132a22a1",
   "metadata": {},
   "outputs": [],
   "source": [
    "#req:to change entire name in caps..."
   ]
  },
  {
   "cell_type": "code",
   "execution_count": 11,
   "id": "b945ed9a-bfbf-4d08-b061-e989eda8462b",
   "metadata": {},
   "outputs": [
    {
     "name": "stdout",
     "output_type": "stream",
     "text": [
      "SYED\n"
     ]
    }
   ],
   "source": [
    "print(fullname.upper())"
   ]
  },
  {
   "cell_type": "code",
   "execution_count": null,
   "id": "54ecd73d-f284-4004-a540-f6d4c04c7e27",
   "metadata": {},
   "outputs": [],
   "source": [
    "#req:to change entire name in lowercase..."
   ]
  },
  {
   "cell_type": "code",
   "execution_count": 12,
   "id": "477586d2-4513-4781-936e-43838b3d9820",
   "metadata": {},
   "outputs": [
    {
     "name": "stdout",
     "output_type": "stream",
     "text": [
      "syed\n"
     ]
    }
   ],
   "source": [
    "print(fullname.lower())"
   ]
  },
  {
   "cell_type": "code",
   "execution_count": null,
   "id": "78331d69-87b3-49e9-bb42-95089c890ee7",
   "metadata": {},
   "outputs": [],
   "source": [
    "DAY3 :Continuation of string datatype\n",
    "\n",
    "intro to f strings:"
   ]
  },
  {
   "cell_type": "code",
   "execution_count": 14,
   "id": "e01c853b-37e5-4c95-8465-aeaa40753b62",
   "metadata": {},
   "outputs": [],
   "source": [
    "firstname='syed'\n",
    "lastname='fathima'"
   ]
  },
  {
   "cell_type": "code",
   "execution_count": null,
   "id": "388d4b99-b837-42f9-978a-958fc98bc9af",
   "metadata": {},
   "outputs": [],
   "source": [
    "#req:to get the fullname....?\n",
    "#general syntax of f strings"
   ]
  },
  {
   "cell_type": "code",
   "execution_count": null,
   "id": "5198f4a4-97e6-4e97-90d5-669b3748da1b",
   "metadata": {},
   "outputs": [],
   "source": [
    "f\"custom message{placeholder_1}{placeholder_2}.....{placeholder_n}\""
   ]
  },
  {
   "cell_type": "code",
   "execution_count": 16,
   "id": "763dae69-0580-41a3-803b-ffe965014fa0",
   "metadata": {},
   "outputs": [
    {
     "name": "stdout",
     "output_type": "stream",
     "text": [
      "syedfathima\n"
     ]
    }
   ],
   "source": [
    "fullname=f\"{firstname}{lastname}\"\n",
    "print(fullname)"
   ]
  },
  {
   "cell_type": "code",
   "execution_count": 17,
   "id": "5829f549-0a85-4af9-9202-b3019217dffd",
   "metadata": {},
   "outputs": [
    {
     "name": "stdout",
     "output_type": "stream",
     "text": [
      "Syedfathima\n"
     ]
    }
   ],
   "source": [
    "print(fullname.title())"
   ]
  },
  {
   "cell_type": "code",
   "execution_count": 19,
   "id": "a672d953-5b68-45e9-8961-4cdd4e7fc9c2",
   "metadata": {},
   "outputs": [
    {
     "name": "stdout",
     "output_type": "stream",
     "text": [
      "keepitup,Syedfathima\n"
     ]
    }
   ],
   "source": [
    "message=f\"keepitup,{fullname.title()}\"\n",
    "print(message)"
   ]
  },
  {
   "cell_type": "code",
   "execution_count": null,
   "id": "10160093-3130-42a3-a8aa-52929836012c",
   "metadata": {},
   "outputs": [],
   "source": [
    "Adding white spaces to strings:"
   ]
  },
  {
   "cell_type": "code",
   "execution_count": 20,
   "id": "9fb57392-16c5-4fd2-8cbf-6bf5b9b696b0",
   "metadata": {},
   "outputs": [
    {
     "name": "stdout",
     "output_type": "stream",
     "text": [
      "favourite_language:pythonCjavac++swiftjavascript\n"
     ]
    }
   ],
   "source": [
    "print(\"favourite_language:pythonCjavac++swiftjavascript\")"
   ]
  },
  {
   "cell_type": "code",
   "execution_count": 21,
   "id": "9293ec8b-d816-4af2-bc75-2b49cc73eea7",
   "metadata": {},
   "outputs": [
    {
     "name": "stdout",
     "output_type": "stream",
     "text": [
      "favourite_language:\n",
      "python\n",
      "C\n",
      "java\n",
      "c++\n",
      "swift\n",
      "javascript\n"
     ]
    }
   ],
   "source": [
    "print(\"favourite_language:\\npython\\nC\\njava\\nc++\\nswift\\njavascript\")"
   ]
  },
  {
   "cell_type": "code",
   "execution_count": 22,
   "id": "22829678-48c1-4cfc-ae52-60cf6f8c249f",
   "metadata": {},
   "outputs": [
    {
     "name": "stdout",
     "output_type": "stream",
     "text": [
      "favourite_language:\n",
      "\tpython\n",
      "\tC\n",
      "\tjava\n",
      "\tc++\n",
      "\tswift\n",
      "\tjavascript\n"
     ]
    }
   ],
   "source": [
    "print(\"favourite_language:\\n\\tpython\\n\\tC\\n\\tjava\\n\\tc++\\n\\tswift\\n\\tjavascript\")"
   ]
  },
  {
   "cell_type": "markdown",
   "id": "b25d23bb-aeed-4c7a-ade6-17a1252b45c3",
   "metadata": {},
   "source": []
  },
  {
   "cell_type": "code",
   "execution_count": null,
   "id": "dad3d823-ca9c-4dc7-8d62-ef7e0fc8bd51",
   "metadata": {},
   "outputs": [],
   "source": [
    "Removing white spaces from the strings:"
   ]
  },
  {
   "cell_type": "code",
   "execution_count": 2,
   "id": "67b33cf8-282c-47b6-ad31-32ba471b7a1f",
   "metadata": {},
   "outputs": [
    {
     "name": "stdout",
     "output_type": "stream",
     "text": [
      "  python\n"
     ]
    }
   ],
   "source": [
    "name=\"  python\"\n",
    "print(name)"
   ]
  },
  {
   "cell_type": "code",
   "execution_count": 4,
   "id": "77ee7af2-cc70-4f4c-92a1-f7cdae4e1621",
   "metadata": {},
   "outputs": [
    {
     "name": "stdout",
     "output_type": "stream",
     "text": [
      "python\n"
     ]
    }
   ],
   "source": [
    "name2=\"python\"\n",
    "print(name2)"
   ]
  },
  {
   "cell_type": "code",
   "execution_count": 6,
   "id": "9ecf1bad-0c9b-47cd-b270-daa4572d110a",
   "metadata": {},
   "outputs": [
    {
     "name": "stdout",
     "output_type": "stream",
     "text": [
      "python  \n"
     ]
    }
   ],
   "source": [
    "name3=\"python  \"\n",
    "print(name3)"
   ]
  },
  {
   "cell_type": "code",
   "execution_count": 7,
   "id": "057884c2-319e-4f05-90f9-4fe20d339ec4",
   "metadata": {},
   "outputs": [
    {
     "data": {
      "text/plain": [
       "'python'"
      ]
     },
     "execution_count": 7,
     "metadata": {},
     "output_type": "execute_result"
    }
   ],
   "source": [
    "name.lstrip()"
   ]
  },
  {
   "cell_type": "code",
   "execution_count": 8,
   "id": "0e805e5e-3b4a-4283-b273-29fe6881b6d8",
   "metadata": {},
   "outputs": [
    {
     "data": {
      "text/plain": [
       "'python'"
      ]
     },
     "execution_count": 8,
     "metadata": {},
     "output_type": "execute_result"
    }
   ],
   "source": [
    "name3.rstrip()"
   ]
  },
  {
   "cell_type": "code",
   "execution_count": 10,
   "id": "2985f763-3b1c-4dcd-b0ef-1f2da5d743c9",
   "metadata": {},
   "outputs": [
    {
     "name": "stdout",
     "output_type": "stream",
     "text": [
      "  python  \n"
     ]
    }
   ],
   "source": [
    "name4='  python  '\n",
    "print(name4)"
   ]
  },
  {
   "cell_type": "code",
   "execution_count": 11,
   "id": "f342ea37-1d15-4ef8-a2c4-3b8572b1cfed",
   "metadata": {},
   "outputs": [
    {
     "data": {
      "text/plain": [
       "'python'"
      ]
     },
     "execution_count": 11,
     "metadata": {},
     "output_type": "execute_result"
    }
   ],
   "source": [
    "name4.strip()"
   ]
  },
  {
   "cell_type": "code",
   "execution_count": null,
   "id": "64127fc4-507a-46e1-a2c5-6339af706df9",
   "metadata": {},
   "outputs": [],
   "source": [
    "#Zen of python:guiding principles"
   ]
  },
  {
   "cell_type": "code",
   "execution_count": 12,
   "id": "991487d4-fd2e-42c5-ac1f-c7c5153c367f",
   "metadata": {},
   "outputs": [
    {
     "name": "stdout",
     "output_type": "stream",
     "text": [
      "The Zen of Python, by Tim Peters\n",
      "\n",
      "Beautiful is better than ugly.\n",
      "Explicit is better than implicit.\n",
      "Simple is better than complex.\n",
      "Complex is better than complicated.\n",
      "Flat is better than nested.\n",
      "Sparse is better than dense.\n",
      "Readability counts.\n",
      "Special cases aren't special enough to break the rules.\n",
      "Although practicality beats purity.\n",
      "Errors should never pass silently.\n",
      "Unless explicitly silenced.\n",
      "In the face of ambiguity, refuse the temptation to guess.\n",
      "There should be one-- and preferably only one --obvious way to do it.\n",
      "Although that way may not be obvious at first unless you're Dutch.\n",
      "Now is better than never.\n",
      "Although never is often better than *right* now.\n",
      "If the implementation is hard to explain, it's a bad idea.\n",
      "If the implementation is easy to explain, it may be a good idea.\n",
      "Namespaces are one honking great idea -- let's do more of those!\n"
     ]
    }
   ],
   "source": [
    "import this"
   ]
  },
  {
   "cell_type": "code",
   "execution_count": null,
   "id": "1872ca65-f4c7-46f9-a478-7e0a08c7ecef",
   "metadata": {},
   "outputs": [],
   "source": [
    "Intro to numbers:\n",
    "\n"
   ]
  },
  {
   "cell_type": "code",
   "execution_count": 14,
   "id": "9a1ae111-9d79-4bcf-a05e-29058467c5e4",
   "metadata": {},
   "outputs": [
    {
     "name": "stdout",
     "output_type": "stream",
     "text": [
      "123\n"
     ]
    }
   ],
   "source": [
    "number=123\n",
    "print(number)"
   ]
  },
  {
   "cell_type": "code",
   "execution_count": 15,
   "id": "8f766f58-e9da-4475-a6c3-036428938a5b",
   "metadata": {},
   "outputs": [
    {
     "data": {
      "text/plain": [
       "int"
      ]
     },
     "execution_count": 15,
     "metadata": {},
     "output_type": "execute_result"
    }
   ],
   "source": [
    "type(number)"
   ]
  },
  {
   "cell_type": "code",
   "execution_count": 17,
   "id": "c9e41c54-83c3-4b83-b606-54d473d7d56e",
   "metadata": {},
   "outputs": [
    {
     "name": "stdout",
     "output_type": "stream",
     "text": [
      "0.1\n"
     ]
    }
   ],
   "source": [
    "num2=0.1\n",
    "print(num2)"
   ]
  },
  {
   "cell_type": "code",
   "execution_count": 18,
   "id": "eb3b9026-cc16-4b2a-8b68-0a4b42287048",
   "metadata": {},
   "outputs": [
    {
     "data": {
      "text/plain": [
       "float"
      ]
     },
     "execution_count": 18,
     "metadata": {},
     "output_type": "execute_result"
    }
   ],
   "source": [
    "type(num2)"
   ]
  },
  {
   "cell_type": "code",
   "execution_count": null,
   "id": "2d41f8b6-843a-424c-980f-41171500277f",
   "metadata": {},
   "outputs": [],
   "source": [
    "DAY4\n",
    "Intro to list:\n",
    "List is a collection of items defined in a particular order\n",
    "\n",
    "Classification:\n",
    "It is classified in mutable datatype.\n",
    "how to define list datatype:[]#"
   ]
  },
  {
   "cell_type": "code",
   "execution_count": 20,
   "id": "9d093a4b-58e0-4759-8260-8e7229945247",
   "metadata": {},
   "outputs": [
    {
     "name": "stdout",
     "output_type": "stream",
     "text": [
      "['syed', 'minha', 'asma', 'hasan']\n"
     ]
    }
   ],
   "source": [
    "students=['syed','minha','asma','hasan']#[0,1,2,3]\n",
    "print(students)"
   ]
  },
  {
   "cell_type": "code",
   "execution_count": 21,
   "id": "feed77f9-f474-42bc-95c3-cdb78827a4c0",
   "metadata": {},
   "outputs": [
    {
     "data": {
      "text/plain": [
       "list"
      ]
     },
     "execution_count": 21,
     "metadata": {},
     "output_type": "execute_result"
    }
   ],
   "source": [
    "type(students)"
   ]
  },
  {
   "cell_type": "code",
   "execution_count": null,
   "id": "a7e8f938-d302-4dfa-acd9-072b81231142",
   "metadata": {},
   "outputs": [],
   "source": [
    "Intro to Indexing:0,1,2,3,4,5,....."
   ]
  },
  {
   "cell_type": "code",
   "execution_count": null,
   "id": "652b5ff8-bcc9-4839-8a43-095d5c5848b0",
   "metadata": {},
   "outputs": [],
   "source": [
    "#req:to access syed name in the output.."
   ]
  },
  {
   "cell_type": "code",
   "execution_count": 22,
   "id": "2716742c-b4cc-4af5-a9fe-72eed3fe5425",
   "metadata": {},
   "outputs": [
    {
     "name": "stdout",
     "output_type": "stream",
     "text": [
      "syed\n"
     ]
    }
   ],
   "source": [
    "print(students[0])"
   ]
  },
  {
   "cell_type": "code",
   "execution_count": 23,
   "id": "2d7f268d-ce6c-4b49-abad-15cff266a6c9",
   "metadata": {},
   "outputs": [
    {
     "name": "stdout",
     "output_type": "stream",
     "text": [
      "Minha\n"
     ]
    }
   ],
   "source": [
    "print(students[1].title())"
   ]
  },
  {
   "cell_type": "code",
   "execution_count": 24,
   "id": "2a42342e-b60f-40f5-a5a0-cac9216bed23",
   "metadata": {},
   "outputs": [
    {
     "name": "stdout",
     "output_type": "stream",
     "text": [
      "Syed\n"
     ]
    }
   ],
   "source": [
    "print(students[0].title())"
   ]
  },
  {
   "cell_type": "code",
   "execution_count": null,
   "id": "3d3f1595-e89e-4d68-924d-2d0040253f40",
   "metadata": {},
   "outputs": [],
   "source": [
    "How to add new elements to the list"
   ]
  },
  {
   "cell_type": "code",
   "execution_count": 25,
   "id": "ab5bce10-171c-4b4e-b63f-8f4b3cb9a13c",
   "metadata": {},
   "outputs": [
    {
     "name": "stdout",
     "output_type": "stream",
     "text": [
      "['syed', 'minha', 'asma', 'hasan']\n"
     ]
    }
   ],
   "source": [
    "print(students)"
   ]
  },
  {
   "cell_type": "code",
   "execution_count": null,
   "id": "84d2f894-28a6-4b8a-9e0a-5f17051806cb",
   "metadata": {},
   "outputs": [],
   "source": [
    "req:to add name zameer in the list...."
   ]
  },
  {
   "cell_type": "code",
   "execution_count": 6,
   "id": "ba07c971-8d90-47c6-af6c-cc889bf8a9ac",
   "metadata": {},
   "outputs": [
    {
     "ename": "NameError",
     "evalue": "name 'students' is not defined",
     "output_type": "error",
     "traceback": [
      "\u001b[1;31m---------------------------------------------------------------------------\u001b[0m",
      "\u001b[1;31mNameError\u001b[0m                                 Traceback (most recent call last)",
      "Cell \u001b[1;32mIn[6], line 1\u001b[0m\n\u001b[1;32m----> 1\u001b[0m students\u001b[38;5;241m.\u001b[39mappend(\u001b[38;5;124m'\u001b[39m\u001b[38;5;124mrina\u001b[39m\u001b[38;5;124m'\u001b[39m)\n",
      "\u001b[1;31mNameError\u001b[0m: name 'students' is not defined"
     ]
    }
   ],
   "source": [
    "students.append('rina')"
   ]
  },
  {
   "cell_type": "code",
   "execution_count": 8,
   "id": "5ea04f99-b8bd-4afe-8ccf-153d08f3b1d2",
   "metadata": {},
   "outputs": [
    {
     "name": "stdout",
     "output_type": "stream",
     "text": [
      "['syed', 'minha', 'asma', 'hasan']\n"
     ]
    }
   ],
   "source": [
    "students=['syed','minha','asma','hasan']#[0,1,2,3,4,5,6]\n",
    "print(students)"
   ]
  },
  {
   "cell_type": "code",
   "execution_count": 10,
   "id": "31e7cf13-ff4c-4936-87d8-97f0c99e03c2",
   "metadata": {},
   "outputs": [
    {
     "name": "stdout",
     "output_type": "stream",
     "text": [
      "['syed', 'minha', 'asma', 'hasan', 'zameer', 'zameer']\n"
     ]
    }
   ],
   "source": [
    "students.append('zameer')\n",
    "print(students)"
   ]
  },
  {
   "cell_type": "code",
   "execution_count": 12,
   "id": "fee02f04-be97-489e-951b-e1757f349de0",
   "metadata": {},
   "outputs": [
    {
     "name": "stdout",
     "output_type": "stream",
     "text": [
      "['syed', 'minha', 'farooq', 'farooq', 'asma', 'hasan', 'zameer', 'zameer']\n"
     ]
    }
   ],
   "source": [
    "students.insert(2,'farooq')\n",
    "print(students)"
   ]
  },
  {
   "cell_type": "code",
   "execution_count": 13,
   "id": "3cf27533-a7f5-47ab-a3d9-0f981b7dd9f7",
   "metadata": {},
   "outputs": [
    {
     "name": "stdout",
     "output_type": "stream",
     "text": [
      "farooq\n"
     ]
    }
   ],
   "source": [
    "print(students[2])"
   ]
  },
  {
   "cell_type": "code",
   "execution_count": 14,
   "id": "95b79043-87d6-4c22-9986-014d246f8e8e",
   "metadata": {},
   "outputs": [
    {
     "name": "stdout",
     "output_type": "stream",
     "text": [
      "['syed', 'minha', 'farooq', 'farooq', 'asma', 'hasan', 'zameer', 'zameer']\n"
     ]
    }
   ],
   "source": [
    "print(students)"
   ]
  },
  {
   "cell_type": "code",
   "execution_count": 16,
   "id": "d7e773d9-baa0-48b7-9da5-3122f5b33d1c",
   "metadata": {},
   "outputs": [
    {
     "name": "stdout",
     "output_type": "stream",
     "text": [
      "['alima', 'minha', 'farooq', 'farooq', 'asma', 'hasan', 'zameer', 'zameer']\n"
     ]
    }
   ],
   "source": [
    "students[0]='alima'\n",
    "print(students)"
   ]
  },
  {
   "cell_type": "code",
   "execution_count": 18,
   "id": "1e4fba57-2374-4bf2-8505-5af02ebe2764",
   "metadata": {},
   "outputs": [
    {
     "name": "stdout",
     "output_type": "stream",
     "text": [
      "['alima', 'minha', 'farooq', 'hasan', 'zameer', 'zameer']\n"
     ]
    }
   ],
   "source": [
    "del students[3]\n",
    "print(students)"
   ]
  },
  {
   "cell_type": "code",
   "execution_count": null,
   "id": "e1f25e42-3459-4ddd-866d-c418ce0a7db8",
   "metadata": {},
   "outputs": [],
   "source": []
  },
  {
   "cell_type": "code",
   "execution_count": null,
   "id": "466066d5-9f34-4f2b-a3c0-f53cfee92229",
   "metadata": {},
   "outputs": [],
   "source": []
  },
  {
   "cell_type": "code",
   "execution_count": null,
   "id": "60170cc8-1025-4077-9567-0246cd811447",
   "metadata": {},
   "outputs": [],
   "source": []
  },
  {
   "cell_type": "code",
   "execution_count": 5,
   "id": "5730cc26-2b73-4cb8-bd11-b61a423f172c",
   "metadata": {},
   "outputs": [
    {
     "ename": "NameError",
     "evalue": "name 'students' is not defined",
     "output_type": "error",
     "traceback": [
      "\u001b[1;31m---------------------------------------------------------------------------\u001b[0m",
      "\u001b[1;31mNameError\u001b[0m                                 Traceback (most recent call last)",
      "Cell \u001b[1;32mIn[5], line 1\u001b[0m\n\u001b[1;32m----> 1\u001b[0m students\u001b[38;5;241m.\u001b[39mappend(\u001b[38;5;124m'\u001b[39m\u001b[38;5;124mzameer\u001b[39m\u001b[38;5;124m'\u001b[39m)\n\u001b[0;32m      2\u001b[0m \u001b[38;5;28mprint\u001b[39m(students)\n",
      "\u001b[1;31mNameError\u001b[0m: name 'students' is not defined"
     ]
    }
   ],
   "source": [
    "students.append('zameer')\n",
    "print(students)"
   ]
  },
  {
   "cell_type": "code",
   "execution_count": 29,
   "id": "161326a3-b0a0-46c7-9ab6-5f38f59671b4",
   "metadata": {},
   "outputs": [
    {
     "name": "stdout",
     "output_type": "stream",
     "text": [
      "['syed', 'minha', 'asma', 'hasan', 'zameer', 'zameer', 'rina', 'rina']\n"
     ]
    }
   ],
   "source": [
    "students.append('rina')\n",
    "print(students)"
   ]
  },
  {
   "cell_type": "code",
   "execution_count": null,
   "id": "61919717-982d-489b-b4b7-4c1a7da31803",
   "metadata": {},
   "outputs": [],
   "source": []
  },
  {
   "cell_type": "code",
   "execution_count": null,
   "id": "6b0df618-f948-4f02-b707-7deb97067201",
   "metadata": {},
   "outputs": [],
   "source": []
  },
  {
   "cell_type": "code",
   "execution_count": null,
   "id": "cf23f5f3-4875-408c-a9c2-45cdd5e4652c",
   "metadata": {},
   "outputs": [],
   "source": []
  },
  {
   "cell_type": "code",
   "execution_count": null,
   "id": "cd44fcb4-07b1-4c3a-ac3e-090d25fc23f9",
   "metadata": {},
   "outputs": [],
   "source": []
  },
  {
   "cell_type": "code",
   "execution_count": null,
   "id": "fc3ad259-1f72-4292-b173-029e8f646c29",
   "metadata": {},
   "outputs": [],
   "source": []
  },
  {
   "cell_type": "code",
   "execution_count": null,
   "id": "6d46277e-5453-4941-ae89-000f99dffcf9",
   "metadata": {},
   "outputs": [],
   "source": []
  },
  {
   "cell_type": "code",
   "execution_count": null,
   "id": "d9f81d35-d7aa-48c0-9bfb-7f91cd8248e4",
   "metadata": {},
   "outputs": [],
   "source": []
  },
  {
   "cell_type": "code",
   "execution_count": null,
   "id": "54980244-c1e3-46a0-8d6a-9eac54bb35dc",
   "metadata": {},
   "outputs": [],
   "source": []
  },
  {
   "cell_type": "code",
   "execution_count": null,
   "id": "e9a7e58f-922d-4dd3-9069-39bab7e8eb6a",
   "metadata": {},
   "outputs": [],
   "source": []
  },
  {
   "cell_type": "code",
   "execution_count": null,
   "id": "010f04b7-3701-4434-9975-ab5eba5cf072",
   "metadata": {},
   "outputs": [],
   "source": []
  },
  {
   "cell_type": "code",
   "execution_count": null,
   "id": "d0005b38-9941-4340-a7f4-9cc158a7ddc4",
   "metadata": {},
   "outputs": [],
   "source": []
  },
  {
   "cell_type": "code",
   "execution_count": null,
   "id": "2a9e720c-76d3-4565-9d50-33e5446a7f33",
   "metadata": {},
   "outputs": [],
   "source": []
  },
  {
   "cell_type": "code",
   "execution_count": null,
   "id": "00c94a99-df72-434d-b38c-3361e1214adf",
   "metadata": {},
   "outputs": [],
   "source": []
  },
  {
   "cell_type": "code",
   "execution_count": 2,
   "id": "ad6ca3b7-74c6-4781-ba48-1fe1a04fb579",
   "metadata": {},
   "outputs": [
    {
     "ename": "NameError",
     "evalue": "name 'students' is not defined",
     "output_type": "error",
     "traceback": [
      "\u001b[1;31m---------------------------------------------------------------------------\u001b[0m",
      "\u001b[1;31mNameError\u001b[0m                                 Traceback (most recent call last)",
      "Cell \u001b[1;32mIn[2], line 3\u001b[0m\n\u001b[0;32m      1\u001b[0m \u001b[38;5;66;03m#req:to add name farooq in 2nd posistion....\u001b[39;00m\n\u001b[1;32m----> 3\u001b[0m students\u001b[38;5;241m.\u001b[39minsert(\u001b[38;5;241m2\u001b[39m,\u001b[38;5;124m'\u001b[39m\u001b[38;5;124mfarooq\u001b[39m\u001b[38;5;124m'\u001b[39m)\n",
      "\u001b[1;31mNameError\u001b[0m: name 'students' is not defined"
     ]
    }
   ],
   "source": [
    "#req:to add name farooq in 2nd posistion....\n",
    "\n",
    "students.insert(2,'farooq')"
   ]
  },
  {
   "cell_type": "code",
   "execution_count": 1,
   "id": "d0b3f626-0240-423a-930d-b9901d38d718",
   "metadata": {},
   "outputs": [
    {
     "ename": "NameError",
     "evalue": "name 'students' is not defined",
     "output_type": "error",
     "traceback": [
      "\u001b[1;31m---------------------------------------------------------------------------\u001b[0m",
      "\u001b[1;31mNameError\u001b[0m                                 Traceback (most recent call last)",
      "Cell \u001b[1;32mIn[1], line 1\u001b[0m\n\u001b[1;32m----> 1\u001b[0m students\u001b[38;5;241m.\u001b[39minsert(\u001b[38;5;241m2\u001b[39m,\u001b[38;5;124m'\u001b[39m\u001b[38;5;124mfarooq\u001b[39m\u001b[38;5;124m'\u001b[39m)\n",
      "\u001b[1;31mNameError\u001b[0m: name 'students' is not defined"
     ]
    }
   ],
   "source": []
  },
  {
   "cell_type": "code",
   "execution_count": 4,
   "id": "7f7df23d-6e13-47f2-b510-e29d3f459924",
   "metadata": {},
   "outputs": [
    {
     "ename": "NameError",
     "evalue": "name 'students' is not defined",
     "output_type": "error",
     "traceback": [
      "\u001b[1;31m---------------------------------------------------------------------------\u001b[0m",
      "\u001b[1;31mNameError\u001b[0m                                 Traceback (most recent call last)",
      "Cell \u001b[1;32mIn[4], line 1\u001b[0m\n\u001b[1;32m----> 1\u001b[0m students\u001b[38;5;241m.\u001b[39minsert(\u001b[38;5;241m2\u001b[39m,\u001b[38;5;124m'\u001b[39m\u001b[38;5;124mfarooq\u001b[39m\u001b[38;5;124m'\u001b[39m)\n\u001b[0;32m      2\u001b[0m \u001b[38;5;28mprint\u001b[39m(students)\n",
      "\u001b[1;31mNameError\u001b[0m: name 'students' is not defined"
     ]
    }
   ],
   "source": [
    "students.insert(2,'farooq')\n",
    "print(students)"
   ]
  },
  {
   "cell_type": "code",
   "execution_count": null,
   "id": "78695d03-36a8-4605-bd39-b5853b1ec3d0",
   "metadata": {},
   "outputs": [],
   "source": []
  }
 ],
 "metadata": {
  "kernelspec": {
   "display_name": "Python [conda env:base] *",
   "language": "python",
   "name": "conda-base-py"
  },
  "language_info": {
   "codemirror_mode": {
    "name": "ipython",
    "version": 3
   },
   "file_extension": ".py",
   "mimetype": "text/x-python",
   "name": "python",
   "nbconvert_exporter": "python",
   "pygments_lexer": "ipython3",
   "version": "3.13.5"
  }
 },
 "nbformat": 4,
 "nbformat_minor": 5
}
