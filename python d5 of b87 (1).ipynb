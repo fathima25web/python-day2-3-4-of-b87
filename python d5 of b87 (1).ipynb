{
 "cells": [
  {
   "cell_type": "code",
   "execution_count": null,
   "id": "34c5e9dd-bbcf-42e1-a36e-780fcc0181c7",
   "metadata": {},
   "outputs": [],
   "source": [
    "Organising list datatype"
   ]
  },
  {
   "cell_type": "code",
   "execution_count": 2,
   "id": "1f9e5e64-8b91-4cfa-97f5-d2683cd8fb11",
   "metadata": {},
   "outputs": [
    {
     "name": "stdout",
     "output_type": "stream",
     "text": [
      "['bmw', 'tata', 'suzuki', 'audi', 'toyota', 'benz']\n"
     ]
    }
   ],
   "source": [
    "cars=['bmw','tata','suzuki','audi','toyota','benz']\n",
    "print(cars)"
   ]
  },
  {
   "cell_type": "raw",
   "id": "d6812e98-ec95-4788-9e27-ad6101793af7",
   "metadata": {},
   "source": []
  },
  {
   "cell_type": "raw",
   "id": "b0d3162d-267c-491e-836f-8995e81ea01c",
   "metadata": {},
   "source": []
  },
  {
   "cell_type": "code",
   "execution_count": 3,
   "id": "f5b28e68-7535-4969-8ec1-64aec96237eb",
   "metadata": {},
   "outputs": [
    {
     "data": {
      "text/plain": [
       "list"
      ]
     },
     "execution_count": 3,
     "metadata": {},
     "output_type": "execute_result"
    }
   ],
   "source": [
    "type(cars)"
   ]
  },
  {
   "cell_type": "code",
   "execution_count": null,
   "id": "815ec1a5-6902-4995-bad0-941f4a49dccf",
   "metadata": {},
   "outputs": [],
   "source": [
    "#req:to organize the list in alphabhetical order..."
   ]
  },
  {
   "cell_type": "code",
   "execution_count": 5,
   "id": "02655666-0eed-45ca-ab78-287fe85918c3",
   "metadata": {},
   "outputs": [
    {
     "name": "stdout",
     "output_type": "stream",
     "text": [
      "['audi', 'benz', 'bmw', 'suzuki', 'tata', 'toyota']\n"
     ]
    }
   ],
   "source": [
    "print(sorted(cars))"
   ]
  },
  {
   "cell_type": "code",
   "execution_count": 6,
   "id": "2c29d945-aa2e-460e-9004-be17631d0504",
   "metadata": {},
   "outputs": [
    {
     "name": "stdout",
     "output_type": "stream",
     "text": [
      "['bmw', 'tata', 'suzuki', 'audi', 'toyota', 'benz']\n"
     ]
    }
   ],
   "source": [
    "print(cars)"
   ]
  },
  {
   "cell_type": "code",
   "execution_count": 7,
   "id": "f8758ab6-ec40-4e7f-a6dc-e1daf059c468",
   "metadata": {},
   "outputs": [
    {
     "name": "stdout",
     "output_type": "stream",
     "text": [
      "['bmw', 'tata', 'suzuki', 'audi', 'toyota', 'benz']\n"
     ]
    }
   ],
   "source": [
    "print(cars)"
   ]
  },
  {
   "cell_type": "code",
   "execution_count": null,
   "id": "2810e619-9aa5-4062-9b46-f9437869c9f8",
   "metadata": {},
   "outputs": [],
   "source": [
    "#req:to count no.of.elements in list..."
   ]
  },
  {
   "cell_type": "code",
   "execution_count": 8,
   "id": "22d19858-c183-4d3d-9b87-6ab6db2bb352",
   "metadata": {},
   "outputs": [
    {
     "data": {
      "text/plain": [
       "6"
      ]
     },
     "execution_count": 8,
     "metadata": {},
     "output_type": "execute_result"
    }
   ],
   "source": [
    "len(cars)"
   ]
  },
  {
   "cell_type": "code",
   "execution_count": null,
   "id": "537005c6-bba8-409e-ba43-6567c82c080c",
   "metadata": {},
   "outputs": [],
   "source": [
    "#req:print list in z-a order..."
   ]
  },
  {
   "cell_type": "code",
   "execution_count": 11,
   "id": "87b6e3fc-f2a8-471f-aa8c-43f9478b090c",
   "metadata": {},
   "outputs": [
    {
     "name": "stdout",
     "output_type": "stream",
     "text": [
      "None\n"
     ]
    }
   ],
   "source": [
    "cars.reverse()\n",
    "print(cars.reverse())"
   ]
  },
  {
   "cell_type": "raw",
   "id": "0f917a2d-cc9d-48f8-a4a7-69f72c7850ee",
   "metadata": {},
   "source": []
  },
  {
   "cell_type": "code",
   "execution_count": 12,
   "id": "84979f54-83c7-4b7a-b043-6ea033946e4b",
   "metadata": {},
   "outputs": [
    {
     "name": "stdout",
     "output_type": "stream",
     "text": [
      "['bmw', 'tata', 'suzuki', 'audi', 'toyota', 'benz']\n"
     ]
    }
   ],
   "source": [
    "print(cars)"
   ]
  },
  {
   "cell_type": "code",
   "execution_count": 16,
   "id": "e89dfde9-2dd0-46c7-afba-1a04a3f2b2c4",
   "metadata": {},
   "outputs": [
    {
     "name": "stdout",
     "output_type": "stream",
     "text": [
      "['benz', 'toyota', 'audi', 'suzuki', 'tata', 'bmw']\n"
     ]
    }
   ],
   "source": [
    "cars.reverse()\n",
    "print(cars)#A-Z order"
   ]
  },
  {
   "cell_type": "code",
   "execution_count": null,
   "id": "ed63722a-8706-4766-abf3-1c2c24ea3ad3",
   "metadata": {},
   "outputs": [],
   "source": [
    "Intro to slicing::"
   ]
  },
  {
   "cell_type": "code",
   "execution_count": 18,
   "id": "95e2178f-4163-412f-8a9c-74cdd8e22453",
   "metadata": {},
   "outputs": [
    {
     "name": "stdout",
     "output_type": "stream",
     "text": [
      "['anika', 'arpita', 'bhushan', 'bhanu', 'chandra', 'cynthya', 'danish']\n"
     ]
    }
   ],
   "source": [
    "students=['anika','arpita','bhushan','bhanu','chandra','cynthya','danish']\n",
    "print(students)"
   ]
  },
  {
   "cell_type": "code",
   "execution_count": null,
   "id": "fec256f8-da17-494f-9199-f20f2afee132",
   "metadata": {},
   "outputs": [],
   "source": [
    "#req:include anika and arpita in the slice.."
   ]
  },
  {
   "cell_type": "code",
   "execution_count": 19,
   "id": "55cba33c-1e19-410c-a89e-1c6c7d168983",
   "metadata": {},
   "outputs": [
    {
     "name": "stdout",
     "output_type": "stream",
     "text": [
      "['anika']\n"
     ]
    }
   ],
   "source": [
    "print(students[0:1])"
   ]
  },
  {
   "cell_type": "code",
   "execution_count": 20,
   "id": "e94297c3-e072-4c31-bb10-cdc94a1c8538",
   "metadata": {},
   "outputs": [
    {
     "name": "stdout",
     "output_type": "stream",
     "text": [
      "['anika', 'arpita']\n"
     ]
    }
   ],
   "source": [
    "print(students[0:2])"
   ]
  },
  {
   "cell_type": "code",
   "execution_count": null,
   "id": "dc945f87-dcd5-4244-8f23-a0055298f943",
   "metadata": {},
   "outputs": [],
   "source": [
    "#req: bhushan and bhanu"
   ]
  },
  {
   "cell_type": "code",
   "execution_count": 21,
   "id": "7bf55933-5780-43a8-8a29-6600e2f40934",
   "metadata": {},
   "outputs": [
    {
     "name": "stdout",
     "output_type": "stream",
     "text": [
      "['anika', 'bhushan', 'chandra', 'danish']\n"
     ]
    }
   ],
   "source": [
    "print(students[0:7:2])"
   ]
  },
  {
   "cell_type": "raw",
   "id": "81bcd360-12a4-42b9-9342-13b51a573c73",
   "metadata": {},
   "source": []
  },
  {
   "cell_type": "code",
   "execution_count": 22,
   "id": "21df4064-d81c-48b9-b229-5b3e56ae3832",
   "metadata": {},
   "outputs": [
    {
     "name": "stdout",
     "output_type": "stream",
     "text": [
      "['anika', 'arpita', 'bhushan', 'bhanu', 'chandra', 'cynthya', 'danish']\n"
     ]
    }
   ],
   "source": [
    "print(students)"
   ]
  },
  {
   "cell_type": "code",
   "execution_count": null,
   "id": "e93476e3-920c-40c7-a292-e1728a2cfc28",
   "metadata": {},
   "outputs": [],
   "source": [
    "Intro to tuple datatype:"
   ]
  },
  {
   "cell_type": "code",
   "execution_count": 24,
   "id": "a243a5ab-2f97-4a90-9b86-fb8284f334db",
   "metadata": {},
   "outputs": [
    {
     "name": "stdout",
     "output_type": "stream",
     "text": [
      "(30, 50)\n"
     ]
    }
   ],
   "source": [
    "dimensions=(30,50)\n",
    "print(dimensions)"
   ]
  },
  {
   "cell_type": "code",
   "execution_count": 25,
   "id": "ff2c856f-d7a9-4e06-8247-c1f3e257919f",
   "metadata": {},
   "outputs": [
    {
     "data": {
      "text/plain": [
       "tuple"
      ]
     },
     "execution_count": 25,
     "metadata": {},
     "output_type": "execute_result"
    }
   ],
   "source": [
    "type(dimensions)"
   ]
  },
  {
   "cell_type": "code",
   "execution_count": 26,
   "id": "891a565d-f8aa-4db9-b2ae-01be9aceb5dd",
   "metadata": {},
   "outputs": [
    {
     "ename": "TypeError",
     "evalue": "'tuple' object does not support item assignment",
     "output_type": "error",
     "traceback": [
      "\u001b[1;31m---------------------------------------------------------------------------\u001b[0m",
      "\u001b[1;31mTypeError\u001b[0m                                 Traceback (most recent call last)",
      "Cell \u001b[1;32mIn[26], line 1\u001b[0m\n\u001b[1;32m----> 1\u001b[0m dimensions[\u001b[38;5;241m0\u001b[39m]\u001b[38;5;241m=\u001b[39m\u001b[38;5;241m30\u001b[39m\n",
      "\u001b[1;31mTypeError\u001b[0m: 'tuple' object does not support item assignment"
     ]
    }
   ],
   "source": [
    "dimensions[0]=30"
   ]
  },
  {
   "cell_type": "code",
   "execution_count": 27,
   "id": "a86da444-88a1-4700-a4c0-bac93ec9792b",
   "metadata": {},
   "outputs": [
    {
     "name": "stdout",
     "output_type": "stream",
     "text": [
      "50\n"
     ]
    }
   ],
   "source": [
    "print(dimensions[1])"
   ]
  },
  {
   "cell_type": "code",
   "execution_count": null,
   "id": "650df1b7-2af6-43b8-9049-b3411f45e724",
   "metadata": {},
   "outputs": [],
   "source": []
  },
  {
   "cell_type": "code",
   "execution_count": null,
   "id": "5ed2f00c-60ad-446f-89f9-14c86880440e",
   "metadata": {},
   "outputs": [],
   "source": []
  },
  {
   "cell_type": "code",
   "execution_count": null,
   "id": "5a3ebd51-3f50-454c-b12a-d7a66bbceb5c",
   "metadata": {},
   "outputs": [],
   "source": []
  },
  {
   "cell_type": "code",
   "execution_count": null,
   "id": "6a9bb3d6-51cd-4243-85e0-7722ec8797fa",
   "metadata": {},
   "outputs": [],
   "source": []
  },
  {
   "cell_type": "code",
   "execution_count": null,
   "id": "bd0d0fc7-d5a0-41b9-ad62-fecc72b338a5",
   "metadata": {},
   "outputs": [],
   "source": []
  },
  {
   "cell_type": "code",
   "execution_count": null,
   "id": "f6bb775e-919a-4a09-b85f-c4897eecfe42",
   "metadata": {},
   "outputs": [],
   "source": []
  },
  {
   "cell_type": "code",
   "execution_count": null,
   "id": "98a95165-6f66-493e-959b-e73426f4cb2a",
   "metadata": {},
   "outputs": [],
   "source": []
  },
  {
   "cell_type": "code",
   "execution_count": null,
   "id": "8f30cbdd-349b-4636-9c94-80eb9394814f",
   "metadata": {},
   "outputs": [],
   "source": []
  },
  {
   "cell_type": "code",
   "execution_count": null,
   "id": "3aa5cd29-a715-49ce-8e73-6f3bc648cf2e",
   "metadata": {},
   "outputs": [],
   "source": []
  },
  {
   "cell_type": "code",
   "execution_count": null,
   "id": "037904d8-c68a-47db-976a-86d52cfb8ec3",
   "metadata": {},
   "outputs": [],
   "source": []
  },
  {
   "cell_type": "code",
   "execution_count": null,
   "id": "2e735b36-609c-46d7-b9b9-2856aa6dfe37",
   "metadata": {},
   "outputs": [],
   "source": []
  },
  {
   "cell_type": "code",
   "execution_count": null,
   "id": "63741ede-e071-4073-a46e-34581c630761",
   "metadata": {},
   "outputs": [],
   "source": []
  },
  {
   "cell_type": "code",
   "execution_count": null,
   "id": "8407ac73-5dd6-4ec0-8b07-49504561e7fb",
   "metadata": {},
   "outputs": [],
   "source": []
  },
  {
   "cell_type": "code",
   "execution_count": null,
   "id": "ab247372-b2b3-4536-82d9-a74d3fd26af7",
   "metadata": {},
   "outputs": [],
   "source": []
  },
  {
   "cell_type": "code",
   "execution_count": null,
   "id": "1fc27d42-208c-478f-a66f-21ff98f4c125",
   "metadata": {},
   "outputs": [],
   "source": []
  },
  {
   "cell_type": "code",
   "execution_count": null,
   "id": "d3a6c316-f74b-4e69-8307-32c056cfe33b",
   "metadata": {},
   "outputs": [],
   "source": []
  },
  {
   "cell_type": "code",
   "execution_count": null,
   "id": "f7a9863e-a764-4460-83fd-b50c49d692a4",
   "metadata": {},
   "outputs": [],
   "source": []
  }
 ],
 "metadata": {
  "kernelspec": {
   "display_name": "Python [conda env:base] *",
   "language": "python",
   "name": "conda-base-py"
  },
  "language_info": {
   "codemirror_mode": {
    "name": "ipython",
    "version": 3
   },
   "file_extension": ".py",
   "mimetype": "text/x-python",
   "name": "python",
   "nbconvert_exporter": "python",
   "pygments_lexer": "ipython3",
   "version": "3.13.5"
  }
 },
 "nbformat": 4,
 "nbformat_minor": 5
}
