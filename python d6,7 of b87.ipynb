{
 "cells": [
  {
   "cell_type": "code",
   "execution_count": null,
   "id": "9dc14ff9-4359-459d-951d-da7dde8ec5b8",
   "metadata": {},
   "outputs": [],
   "source": [
    "Introduction to dictionaries:\n",
    "    A dictionary is a combination of key value pairs.\n",
    "\n",
    "Classification:Mutable datatype\n",
    "How to define:{}"
   ]
  },
  {
   "cell_type": "code",
   "execution_count": null,
   "id": "1236ec9c-7264-49d5-8706-b5e4eec99322",
   "metadata": {},
   "outputs": [],
   "source": [
    "#req:To design a alien game..."
   ]
  },
  {
   "cell_type": "code",
   "execution_count": 2,
   "id": "d02335d6-5f0b-4e81-9a55-85c6b97039ec",
   "metadata": {},
   "outputs": [
    {
     "name": "stdout",
     "output_type": "stream",
     "text": [
      "{'color': 'green', 'points': 5}\n"
     ]
    }
   ],
   "source": [
    "alien={'color':'green','points':5}\n",
    "print(alien)"
   ]
  },
  {
   "cell_type": "code",
   "execution_count": 3,
   "id": "8f60e0c8-a159-4acd-a00b-eb00834f7700",
   "metadata": {},
   "outputs": [
    {
     "data": {
      "text/plain": [
       "dict"
      ]
     },
     "execution_count": 3,
     "metadata": {},
     "output_type": "execute_result"
    }
   ],
   "source": [
    "type(alien)"
   ]
  },
  {
   "cell_type": "raw",
   "id": "c8aded73-b894-4b21-8867-ba9a0dd6e4c0",
   "metadata": {},
   "source": [
    "#req: to add the start position of alien"
   ]
  },
  {
   "cell_type": "code",
   "execution_count": 6,
   "id": "71968b88-c48b-4162-b350-f592254158ed",
   "metadata": {},
   "outputs": [
    {
     "name": "stdout",
     "output_type": "stream",
     "text": [
      "{'color': 'green', 'points': 5, 'start_position': 'level'}\n"
     ]
    }
   ],
   "source": [
    "alien[\"start_position\"]=\"level\"\n",
    "print(alien)"
   ]
  },
  {
   "cell_type": "code",
   "execution_count": 10,
   "id": "0d7b726f-0ac3-447f-97ec-dfc541c7bbc8",
   "metadata": {},
   "outputs": [
    {
     "name": "stdout",
     "output_type": "stream",
     "text": [
      "{'color': 'green', 'points': 5, 'start_position': 'level'}\n"
     ]
    },
    {
     "ename": "KeyError",
     "evalue": "0",
     "output_type": "error",
     "traceback": [
      "\u001b[1;31m---------------------------------------------------------------------------\u001b[0m",
      "\u001b[1;31mKeyError\u001b[0m                                  Traceback (most recent call last)",
      "Cell \u001b[1;32mIn[10], line 3\u001b[0m\n\u001b[0;32m      1\u001b[0m \u001b[38;5;66;03m#req:to know the color of alien:\u001b[39;00m\n\u001b[0;32m      2\u001b[0m \u001b[38;5;28mprint\u001b[39m(alien)\n\u001b[1;32m----> 3\u001b[0m \u001b[38;5;28mprint\u001b[39m(alien[\u001b[38;5;241m0\u001b[39m])\n",
      "\u001b[1;31mKeyError\u001b[0m: 0"
     ]
    }
   ],
   "source": [
    "#req:to know the color of alien:\n",
    "print(alien)\n",
    "print(alien[0])"
   ]
  },
  {
   "cell_type": "code",
   "execution_count": 9,
   "id": "7be27e0e-f4e8-490a-a915-f669e459935c",
   "metadata": {},
   "outputs": [
    {
     "ename": "KeyError",
     "evalue": "0",
     "output_type": "error",
     "traceback": [
      "\u001b[1;31m---------------------------------------------------------------------------\u001b[0m",
      "\u001b[1;31mKeyError\u001b[0m                                  Traceback (most recent call last)",
      "Cell \u001b[1;32mIn[9], line 1\u001b[0m\n\u001b[1;32m----> 1\u001b[0m \u001b[38;5;28mprint\u001b[39m(alien[\u001b[38;5;241m0\u001b[39m])\n",
      "\u001b[1;31mKeyError\u001b[0m: 0"
     ]
    }
   ],
   "source": [
    "print(alien[0])"
   ]
  },
  {
   "cell_type": "code",
   "execution_count": 11,
   "id": "817b8ea9-e78c-47d6-b0c5-7df554227137",
   "metadata": {},
   "outputs": [
    {
     "name": "stdout",
     "output_type": "stream",
     "text": [
      "green\n"
     ]
    }
   ],
   "source": [
    "print(alien['color'])"
   ]
  },
  {
   "cell_type": "code",
   "execution_count": null,
   "id": "950f60a6-5c4b-426e-b5ee-23cb915c804e",
   "metadata": {},
   "outputs": [],
   "source": [
    "#req:to modify key value pairs in dictionary...\n",
    "#req:to modify color of alien from green to red.."
   ]
  },
  {
   "cell_type": "code",
   "execution_count": 13,
   "id": "e6207808-05f8-45cc-9f41-74c85d180010",
   "metadata": {},
   "outputs": [
    {
     "name": "stdout",
     "output_type": "stream",
     "text": [
      "{'color': 'red', 'points': 5, 'start_position': 'level'}\n"
     ]
    }
   ],
   "source": [
    "alien['color']='red'\n",
    "print(alien)"
   ]
  },
  {
   "cell_type": "code",
   "execution_count": null,
   "id": "7ad9222e-2aac-4232-bb59-e59625a364f1",
   "metadata": {},
   "outputs": [],
   "source": [
    "#req:to create the fb user account.."
   ]
  },
  {
   "cell_type": "code",
   "execution_count": 17,
   "id": "493465c5-41ed-4bac-ae03-ff659b902fcc",
   "metadata": {},
   "outputs": [
    {
     "name": "stdout",
     "output_type": "stream",
     "text": [
      "{'firstname': 'code', 'lastname': 'training', 'username': 'code training academy', 'dob': '05.25.1992', 'password': '54321'}\n"
     ]
    }
   ],
   "source": [
    "user_account={'firstname':'code','lastname':'training','username':'code training academy','dob':'05.25.1992','password':'54321'}\n",
    "print(user_account)"
   ]
  },
  {
   "cell_type": "code",
   "execution_count": null,
   "id": "3dfa374c-ec47-40f1-aad1-a07c1db69be4",
   "metadata": {},
   "outputs": [],
   "source": [
    "#req:to delete the key value pairs.."
   ]
  },
  {
   "cell_type": "code",
   "execution_count": 24,
   "id": "b26c7da1-392c-4e75-8bab-d8391870de19",
   "metadata": {},
   "outputs": [
    {
     "ename": "KeyError",
     "evalue": "'lastname'",
     "output_type": "error",
     "traceback": [
      "\u001b[1;31m---------------------------------------------------------------------------\u001b[0m",
      "\u001b[1;31mKeyError\u001b[0m                                  Traceback (most recent call last)",
      "Cell \u001b[1;32mIn[24], line 1\u001b[0m\n\u001b[1;32m----> 1\u001b[0m \u001b[38;5;28;01mdel\u001b[39;00m user_account[\u001b[38;5;124m'\u001b[39m\u001b[38;5;124mlastname\u001b[39m\u001b[38;5;124m'\u001b[39m]\n",
      "\u001b[1;31mKeyError\u001b[0m: 'lastname'"
     ]
    }
   ],
   "source": [
    "del user_account['lastname']\n"
   ]
  },
  {
   "cell_type": "code",
   "execution_count": 25,
   "id": "13ba1096-ed19-47b8-a2d1-2ee3d8c3084d",
   "metadata": {},
   "outputs": [
    {
     "name": "stdout",
     "output_type": "stream",
     "text": [
      "{'firstname': 'code', 'username': 'code training academy', 'dob': '05.25.1992', 'password': '54321'}\n"
     ]
    }
   ],
   "source": [
    "print(user_account)"
   ]
  },
  {
   "cell_type": "code",
   "execution_count": null,
   "id": "42935524-0cff-4ce2-bd2e-8768059abd10",
   "metadata": {},
   "outputs": [],
   "source": [
    "Intro to looping statement:"
   ]
  },
  {
   "cell_type": "code",
   "execution_count": 26,
   "id": "1b114f2e-7239-493a-b9ce-a267a79fc704",
   "metadata": {},
   "outputs": [],
   "source": [
    "students=['durga','dinesh','kavya','noor','raza','abid','joseph']"
   ]
  },
  {
   "cell_type": "code",
   "execution_count": 27,
   "id": "e1b283b4-cf2f-42c2-b226-381539cdf66c",
   "metadata": {},
   "outputs": [
    {
     "name": "stdout",
     "output_type": "stream",
     "text": [
      "keep up the good work,Durga\n"
     ]
    }
   ],
   "source": [
    "print(f\"keep up the good work,{students[0].title()}\")"
   ]
  },
  {
   "cell_type": "code",
   "execution_count": null,
   "id": "5517b41a-f518-4605-b175-d2b7afb87cce",
   "metadata": {},
   "outputs": [],
   "source": [
    "Intro to for loop:"
   ]
  },
  {
   "cell_type": "code",
   "execution_count": null,
   "id": "a74d5717-1dc6-451b-b7cc-c769d980c540",
   "metadata": {},
   "outputs": [],
   "source": [
    "#genral syntax:\n",
    "for tempvar in mainvar:\n",
    "    print(tempvar)"
   ]
  },
  {
   "cell_type": "code",
   "execution_count": 28,
   "id": "013f1d59-378a-4b60-ab53-2abf11316a07",
   "metadata": {},
   "outputs": [
    {
     "name": "stdout",
     "output_type": "stream",
     "text": [
      "keep up the good work,Durga\n",
      "keep up the good work,Dinesh\n",
      "keep up the good work,Kavya\n",
      "keep up the good work,Noor\n",
      "keep up the good work,Raza\n",
      "keep up the good work,Abid\n",
      "keep up the good work,Joseph\n"
     ]
    }
   ],
   "source": [
    "for x in students:\n",
    "    print(f\"keep up the good work,{x.title()}\")"
   ]
  },
  {
   "cell_type": "code",
   "execution_count": 30,
   "id": "0333af37-300c-4a45-a432-d40cfe3a01db",
   "metadata": {},
   "outputs": [
    {
     "name": "stdout",
     "output_type": "stream",
     "text": [
      "Durga\n",
      "Dinesh\n",
      "Kavya\n",
      "Noor\n",
      "Raza\n",
      "Abid\n",
      "Joseph\n"
     ]
    }
   ],
   "source": [
    "for a in students:\n",
    "    print(a.title())"
   ]
  },
  {
   "cell_type": "code",
   "execution_count": 31,
   "id": "4c14d932-7ac3-44fe-bd10-c1805f4ea0f6",
   "metadata": {
    "scrolled": true
   },
   "outputs": [
    {
     "ename": "IndentationError",
     "evalue": "expected an indented block after 'for' statement on line 1 (4141953483.py, line 2)",
     "output_type": "error",
     "traceback": [
      "\u001b[1;36m  Cell \u001b[1;32mIn[31], line 2\u001b[1;36m\u001b[0m\n\u001b[1;33m    print(a)\u001b[0m\n\u001b[1;37m    ^\u001b[0m\n\u001b[1;31mIndentationError\u001b[0m\u001b[1;31m:\u001b[0m expected an indented block after 'for' statement on line 1\n"
     ]
    }
   ],
   "source": [
    "for a in students:\n",
    "print(a)"
   ]
  },
  {
   "cell_type": "code",
   "execution_count": 32,
   "id": "15129ce2-a989-482c-93b9-1579ebc95b16",
   "metadata": {},
   "outputs": [
    {
     "name": "stdout",
     "output_type": "stream",
     "text": [
      "keep up the good work,Durga\n",
      "i am waiting to recieve your submission of work today,Joseph\n",
      "keep up the good work,Dinesh\n",
      "i am waiting to recieve your submission of work today,Joseph\n",
      "keep up the good work,Kavya\n",
      "i am waiting to recieve your submission of work today,Joseph\n",
      "keep up the good work,Noor\n",
      "i am waiting to recieve your submission of work today,Joseph\n",
      "keep up the good work,Raza\n",
      "i am waiting to recieve your submission of work today,Joseph\n",
      "keep up the good work,Abid\n",
      "i am waiting to recieve your submission of work today,Joseph\n",
      "keep up the good work,Joseph\n",
      "i am waiting to recieve your submission of work today,Joseph\n"
     ]
    }
   ],
   "source": [
    "for x in students:\n",
    "    print(f\"keep up the good work,{x.title()}\")\n",
    "    print(f\"i am waiting to recieve your submission of work today,{a.title()}\")\n",
    "    "
   ]
  },
  {
   "cell_type": "code",
   "execution_count": 7,
   "id": "44b3cf44-0d59-4914-b5bc-8beb7912fbf4",
   "metadata": {},
   "outputs": [],
   "source": [
    "students=['durga','dinesh','kavya','noor','raza','abid','joseph']\n",
    "   "
   ]
  },
  {
   "cell_type": "code",
   "execution_count": 9,
   "id": "bba4dbf2-439f-45b7-a47e-5e7b97dc23a2",
   "metadata": {},
   "outputs": [
    {
     "name": "stdout",
     "output_type": "stream",
     "text": [
      "['durga', 'dinesh', 'kavya', 'noor', 'raza', 'abid', 'joseph']\n"
     ]
    }
   ],
   "source": [
    "print(students)"
   ]
  },
  {
   "cell_type": "code",
   "execution_count": 10,
   "id": "697ab011-cd62-460b-bad6-c43a6e6b5396",
   "metadata": {},
   "outputs": [
    {
     "name": "stdout",
     "output_type": "stream",
     "text": [
      "keep up the good work,Durga\n",
      "i am waiting to recieve your submission of work today,Durga\n",
      "\n",
      "keep up the good work,Dinesh\n",
      "i am waiting to recieve your submission of work today,Dinesh\n",
      "\n",
      "keep up the good work,Kavya\n",
      "i am waiting to recieve your submission of work today,Kavya\n",
      "\n",
      "keep up the good work,Noor\n",
      "i am waiting to recieve your submission of work today,Noor\n",
      "\n",
      "keep up the good work,Raza\n",
      "i am waiting to recieve your submission of work today,Raza\n",
      "\n",
      "keep up the good work,Abid\n",
      "i am waiting to recieve your submission of work today,Abid\n",
      "\n",
      "keep up the good work,Joseph\n",
      "i am waiting to recieve your submission of work today,Joseph\n",
      "\n"
     ]
    }
   ],
   "source": [
    "for x in students:\n",
    "    print(f\"keep up the good work,{x.title()}\")\n",
    "    print(f\"i am waiting to recieve your submission of work today,{x.title()}\\n\")"
   ]
  },
  {
   "cell_type": "code",
   "execution_count": 13,
   "id": "f527dbbc-8617-46b7-ade0-7828c3f25f63",
   "metadata": {},
   "outputs": [
    {
     "name": "stdout",
     "output_type": "stream",
     "text": [
      "keep up the good work,Durga\n",
      "i am waiting to recieve your submission of work today,Durga\n",
      "\n",
      "thankyou all\n",
      "keep up the good work,Dinesh\n",
      "i am waiting to recieve your submission of work today,Dinesh\n",
      "\n",
      "thankyou all\n",
      "keep up the good work,Kavya\n",
      "i am waiting to recieve your submission of work today,Kavya\n",
      "\n",
      "thankyou all\n",
      "keep up the good work,Noor\n",
      "i am waiting to recieve your submission of work today,Noor\n",
      "\n",
      "thankyou all\n",
      "keep up the good work,Raza\n",
      "i am waiting to recieve your submission of work today,Raza\n",
      "\n",
      "thankyou all\n",
      "keep up the good work,Abid\n",
      "i am waiting to recieve your submission of work today,Abid\n",
      "\n",
      "thankyou all\n",
      "keep up the good work,Joseph\n",
      "i am waiting to recieve your submission of work today,Joseph\n",
      "\n",
      "thankyou all\n"
     ]
    }
   ],
   "source": [
    "for x in students:\n",
    "    print(f\"keep up the good work,{x.title()}\")\n",
    "    print(f\"i am waiting to recieve your submission of work today,{x.title()}\\n\")\n",
    "    print(\"thankyou all\")"
   ]
  },
  {
   "cell_type": "code",
   "execution_count": null,
   "id": "8a71bdde-c8c1-47cc-8be8-ed9f1919e78b",
   "metadata": {},
   "outputs": [],
   "source": []
  },
  {
   "cell_type": "code",
   "execution_count": null,
   "id": "8ecf981d-7e68-4db5-bdfe-34bec1cd06f1",
   "metadata": {},
   "outputs": [],
   "source": []
  },
  {
   "cell_type": "code",
   "execution_count": null,
   "id": "702c5c76-83e3-4040-a566-5ffac54a30fc",
   "metadata": {},
   "outputs": [],
   "source": []
  },
  {
   "cell_type": "code",
   "execution_count": null,
   "id": "f0bc3334-a360-4f23-ba58-f2243b7cf6d4",
   "metadata": {},
   "outputs": [],
   "source": []
  },
  {
   "cell_type": "code",
   "execution_count": null,
   "id": "117813e0-f421-464f-aa96-6ed4a61d9f14",
   "metadata": {},
   "outputs": [],
   "source": []
  },
  {
   "cell_type": "code",
   "execution_count": null,
   "id": "5ab8eab5-145b-4c15-bacb-09d4418a54e8",
   "metadata": {},
   "outputs": [],
   "source": []
  },
  {
   "cell_type": "code",
   "execution_count": null,
   "id": "5ed562ea-b7e7-4dc5-8ece-a9e9825b122b",
   "metadata": {},
   "outputs": [],
   "source": []
  },
  {
   "cell_type": "code",
   "execution_count": null,
   "id": "a88f9121-7aa4-41cd-8dab-c43cd4c40ad7",
   "metadata": {},
   "outputs": [],
   "source": []
  },
  {
   "cell_type": "code",
   "execution_count": null,
   "id": "ea531715-861d-4561-aa40-5b97978496b0",
   "metadata": {},
   "outputs": [],
   "source": []
  },
  {
   "cell_type": "code",
   "execution_count": null,
   "id": "07cfe8d6-5be7-443c-b2bb-deb17c2da22f",
   "metadata": {},
   "outputs": [],
   "source": []
  }
 ],
 "metadata": {
  "kernelspec": {
   "display_name": "Python [conda env:base] *",
   "language": "python",
   "name": "conda-base-py"
  },
  "language_info": {
   "codemirror_mode": {
    "name": "ipython",
    "version": 3
   },
   "file_extension": ".py",
   "mimetype": "text/x-python",
   "name": "python",
   "nbconvert_exporter": "python",
   "pygments_lexer": "ipython3",
   "version": "3.13.5"
  }
 },
 "nbformat": 4,
 "nbformat_minor": 5
}
